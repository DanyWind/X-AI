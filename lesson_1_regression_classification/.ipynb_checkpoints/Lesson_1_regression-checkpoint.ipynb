{
 "cells": [
  {
   "cell_type": "markdown",
   "metadata": {
    "colab_type": "text",
    "id": "1hx61AQhakmy"
   },
   "source": [
    "# Workshop : introduction to machine learning <br> Lesson 1 : linear regression and classification\n",
    "\n",
    "## I - Introduction to machine learning\n",
    "\n",
    "Today machine learning is talked about all over the news. It has become widely famous in 2016 when Alpha Go, Google Deepmind's AI, has managed to win against the best player in Go of the world.\n",
    "\n",
    "![Alpha Go against Lee Se-dol](https://media.wired.com/photos/592720e2cefba457b079c319/master/w_2400,c_limit/GW20160133774.jpg)\n",
    "<i>Lee Se-Dol versus Alpha Go in 2016</i>\n",
    "\n",
    "It is today one of the hottest topic, and it still manages to impress us every day, whether it is used in medecine, image recognition, or even content generation.\n",
    "\n",
    "We can see here another achievement of AI : being able to transform a zebra into an horse in a picture and vice-versa : \n",
    "\n",
    "![Cycle Gan](https://cdn0.tnwcdn.com/wp-content/blogs.dir/1/files/2017/04/Screen-Shot-2017-04-19-at-12.41.26-796x371.png)\n",
    "<i>Cycle GAN turning an horse into a zebra</i>\n",
    "\n",
    "But the question that arises then is : what is machine learning ?\n",
    "\n",
    "## II - The root of all machine learning : the regression task\n",
    "\n",
    "### A simple principle\n",
    "\n",
    "To explain how it works, we can simply say that the machine learning is simply the act of making a machine learn how to do something, rather than code with if and else how the machine should behave.\n",
    "\n",
    "So in general, a machine learning setup is where we have **observations**, which are used to predict a **target**, and the performance of the machine is given by a **metric**.\n",
    "\n",
    "### The theory\n",
    "\n",
    "More formally, suppose we have a dataset $X = (x_1,...x_n)$ with each $x_i \\in \\mathbb{R}^p$. Here each $x_i$ represents an observation, it can be a row in a database, an individual, or a signal, and it has $p$ features. For instance for a person it can be her age, sex, location, etc ... Here we thus have that $X \\in \\mathbb{R}^{n * p}$\n",
    " \n",
    " We also usually have a target $y = (y_1,...,y_n)$ which is often called the **dependent variable** . For instance it could be the rating for a credit agency that an insurance company has.\n",
    " \n",
    " The goal in machine learning is to find a function $f : \\mathbb{R}^p \\rightarrow \\mathcal{Y}$, such that for all observation $x_i$, we have that $\\hat{y_i} = f(x_i) = y_i$.\n",
    " \n",
    " Here $\\hat{y_i}$ is called the prediction. Therefore our objective here is to find a function $f$ that is able to predict $y_i$ given $x_i$.\n",
    " \n",
    " So one example of machine learning task would be to try to predict whether a tumor is malignant or benign, given the patient record, with for instance, age, sex, number of hospitalizations, whether she is a smoker or not, etc ...\n",
    " \n",
    " In this setting, suppose we have the following dataset : \n",
    " 1. Patrick is 50 years old, and he had a 5 months tumor, it was malignant\n",
    " 2. Alice is 22, and has a 1 month tumor, it was benign\n",
    " \n",
    " \n",
    " Then the dataset would be $x_{1} = (50,5)$ and $x_2 = (22,1)$, the target variable are $y_1 = 1$ and $y_2 = 0$ (here we consider that a tumor is malignant if the observed $y$ is 1). Here our goal will be to predict $y$ given $x$, or put simply, whether or not the tumor is malignant given the age of the patient and the age of the tumor.\n",
    " \n",
    " Now we make a distinction between predicting a real value, such as a price, an area, etc ... versus predicting a discrete value such as age, a binary value, or whether a picture is a cat or not.\n",
    " \n",
    " ### The regression\n",
    " \n",
    " #### The model\n",
    " \n",
    "We saw before the general context of doing machine learning, predicting a variable $y$ based on observation $x$. Here we will suppose $y$ is real valued, therefore it can take any value in $\\mathbb{R}$.\n",
    "\n",
    "The simplest setting is the context of linear regression. We suppose that we have a point cloud and we want to fit the simplest model possible : a straight line that will be \"closest\" to the points.\n",
    "\n",
    "![Texte alternatif…](https://upload.wikimedia.org/wikipedia/commons/thumb/3/3a/Linear_regression.svg/1200px-Linear_regression.svg.png)\n",
    "*Example of linear regression*\n",
    "\n",
    "In this simple example we have that $X = (x_1,...,x_n) \\in \\mathbb{R}^n$ and $y = (y_1,...,y_n)\\in \\mathbb{R}^n$.\n",
    "We know that the equation of a line is simply $\\hat{y} = ax + b$. Our goal here is therefore to find *a* and *b* such that the line $\\hat{y}$ is the best fit to our data.\n",
    "\n",
    "But the question is then, how do we infer them from our data ?\n",
    "\n",
    "#### The loss function\n",
    "\n",
    "One approach is to first randomly sample $a$ and $b$ and then see how our predictions $\\hat{y_i}$ do against true observations $y_i$. To evaluate this we will use a **loss function** which quantifies how much our model is performing compared to the real observations.\n",
    "\n",
    "$\\mathcal{L}(a,b|y) = \\frac{1}{n} \\sum_{i = 1}^{n} (y_i - \\hat{y_i})^2 = \\frac{1}{n} \\sum_{i = 1}^{n} (y_i - (a x_i + b))^2$\n",
    "\n",
    "Now our goal is simply to solve this problem :\n",
    "\n",
    "$\\underset{a,b}{\\arg \\min}  \\frac{1}{n} \\sum_{i = 1}^{n} (y_i - (a x_i + b))^2$ \n",
    "\n",
    "This means that we want to find the parameters $a$ and $b$ such that the average squared error between the prediction and the observation is as low as possible.\n",
    "\n",
    "To solve this, we will look at optimization, and more specifically at optimization with Gradient Descent.\n",
    "\n",
    "#### The optimization \n",
    "\n",
    "Optimizing a function is often a difficult problem, but in the case of convex functions, there are nice theorems and algorithms that insure convergence to a minimum.\n",
    "\n",
    "The simple idea behind convex functions is that they act as \"bowls\", and when they have a minimum it is unique, and also if we start at a given point $x$ of the convex function $f$, $-\\nabla f(x)$ gives the direction towards the minimum.\n",
    "\n",
    "The following drawing helps understand this intuition with a convex function.\n",
    "![alt text](https://cdn-images-1.medium.com/max/1600/0*fU8XFt-NCMZGAWND.)\n",
    "\n",
    "So now, to find the best $a$ and $b$ that make our line closest to our observations, we just have to compute the gradient of $L$ on a given point $(a,b)$, and then update the weights with the formula :\n",
    "\n",
    "$w = w - \\alpha \\nabla L(w)$\n",
    "\n",
    "Here $\\alpha$ is the **step** of our gradient descent, which means how much we decide to pursue this direction. If we make $\\alpha$ too large we might overshoot and miss the minimum, if we make it too small it might take some time to reach the minimum.\n",
    "\n",
    "Here is an illustration :\n",
    "\n",
    "![alt text](https://cdn-images-1.medium.com/max/1600/0*QwE8M4MupSdqA3M4.png)\n",
    "\n",
    "#### Recap\n",
    "\n",
    "So now we have everything to make our machine learning algorithm work :\n",
    "\n",
    "<ol>\n",
    "  <li>A labeled dataset of observations $(x_i,y_i)$</li>\n",
    "  <li>A model on this dataset : $\\hat{y_i} = a x_i + b_i$</li>\n",
    "  <li>A metric to evaluate the performance : $L(a,b) = \\frac{1}{n} \\sum_{i = 1}^{n} (y_i - (a x_i + b))^2$</li>\n",
    "  <li>An optimization algorithm to find the best parameters to minimize the loss : $w = w - \\alpha \\nabla L(w)$ (here $ w = (a,b)$)</li>\n",
    "  </ol>\n",
    " \n",
    " Those 4 steps are always the same for any data science project and are the building blocks for any machine learning project.\n",
    " \n",
    " ### III - Coding your first model \n",
    " \n",
    " We will now code our first model from scratch with only numpy !\n",
    " \n",
    " First we will create a fake dataset\n",
    " \n",
    "\n",
    " \n",
    " \n",
    "  \n"
   ]
  },
  {
   "cell_type": "code",
   "execution_count": 125,
   "metadata": {
    "colab": {
     "base_uri": "https://localhost:8080/",
     "height": 287
    },
    "colab_type": "code",
    "id": "tiGiRN93a6KV",
    "outputId": "208f3ca7-8781-44d2-a643-a793d5bfe8da"
   },
   "outputs": [
    {
     "data": {
      "text/plain": [
       "<matplotlib.collections.PathCollection at 0x1c78145d6d8>"
      ]
     },
     "execution_count": 125,
     "metadata": {},
     "output_type": "execute_result"
    },
    {
     "data": {
      "image/png": "[encoded data removed]",
      "text/plain": [
       "<Figure size 432x288 with 1 Axes>"
      ]
     },
     "metadata": {
      "needs_background": "light"
     },
     "output_type": "display_data"
    }
   ],
   "source": [
    "%matplotlib inline\n",
    "import numpy as np\n",
    "import pandas as pd\n",
    "import matplotlib.pyplot as plt\n",
    "import matplotlib.animation as animation\n",
    "\n",
    "# First we sample x\n",
    "mu_x = 7\n",
    "scale_x = 2\n",
    "n = 100\n",
    "x = np.random.normal(loc = mu_x,scale = scale_x,size = n)\n",
    "\n",
    "# Then we sample y\n",
    "scale_y = 2\n",
    "y = np.random.normal(loc = x * 2,scale = scale_y)\n",
    "\n",
    "# Finally we plot the points\n",
    "plt.scatter(x,y)"
   ]
  },
  {
   "cell_type": "markdown",
   "metadata": {
    "colab_type": "text",
    "id": "TZJE3IxJkAgJ"
   },
   "source": [
    "We now have completed the first task : having a dataset of $(x_i,y_i)$\n",
    "\n",
    "Now we will create a model to predict $y$ given $x$."
   ]
  },
  {
   "cell_type": "code",
   "execution_count": 2,
   "metadata": {
    "colab": {
     "base_uri": "https://localhost:8080/",
     "height": 287
    },
    "colab_type": "code",
    "id": "5sO14Ys7QXrq",
    "outputId": "ee4d4975-f98d-494c-d9f6-5806381d3262"
   },
   "outputs": [
    {
     "data": {
      "text/plain": [
       "<matplotlib.collections.PathCollection at 0x1c7d76ba7b8>"
      ]
     },
     "execution_count": 2,
     "metadata": {},
     "output_type": "execute_result"
    },
    {
     "data": {
      "image/png": "[encoded data removed]",
      "text/plain": [
       "<Figure size 432x288 with 1 Axes>"
      ]
     },
     "metadata": {
      "needs_background": "light"
     },
     "output_type": "display_data"
    }
   ],
   "source": [
    "# Linear prediction\n",
    "def predict(x,a,b):\n",
    "    return x * a + b\n",
    "\n",
    "\n",
    "# We first set them arbritarily\n",
    "a = 1\n",
    "b = 0\n",
    "\n",
    "# Then we predict with the random values\n",
    "pred = predict(x,a,b)\n",
    "\n",
    "plt.plot(x,pred)\n",
    "plt.scatter(x,y, c = \"r\")"
   ]
  },
  {
   "cell_type": "code",
   "execution_count": 3,
   "metadata": {},
   "outputs": [],
   "source": [
    "def l2_loss(y,pred):\n",
    "    l = (y - pred) ** 2\n",
    "    l = np.mean(l) / 2\n",
    "    \n",
    "    return l"
   ]
  },
  {
   "cell_type": "code",
   "execution_count": 4,
   "metadata": {
    "colab": {},
    "colab_type": "code",
    "id": "kUkh8OaZjlAQ"
   },
   "outputs": [],
   "source": [
    "def grad(x,y,pred):\n",
    "    err = pred - y\n",
    "    \n",
    "    grad_a = np.dot(x,err) / n\n",
    "    grad_b = np.sum(err) / n\n",
    "    \n",
    "    return grad_a, grad_b"
   ]
  },
  {
   "cell_type": "code",
   "execution_count": 5,
   "metadata": {},
   "outputs": [],
   "source": [
    "def gradient_descent(a,b,grad_a,grad_b, alpha = 0.001):\n",
    "    \n",
    "    a = a - alpha * grad_a\n",
    "    b = b - alpha * grad_b\n",
    "    \n",
    "    return a,b"
   ]
  },
  {
   "cell_type": "code",
   "execution_count": 6,
   "metadata": {},
   "outputs": [
    {
     "name": "stdout",
     "output_type": "stream",
     "text": [
      "Loss at epoch 0 : 30.03420138868281\n",
      "Loss at epoch 10 : 11.013792319140416\n",
      "Loss at epoch 20 : 5.0036085561129955\n",
      "Loss at epoch 30 : 3.1044667490205087\n",
      "Loss at epoch 40 : 2.504354413753144\n",
      "Loss at epoch 50 : 2.314716511109644\n",
      "Loss at epoch 60 : 2.2547825743168417\n",
      "Loss at epoch 70 : 2.2358332201643645\n",
      "Loss at epoch 80 : 2.2298344141177937\n",
      "Loss at epoch 90 : 2.227927809046326\n"
     ]
    }
   ],
   "source": [
    "n_epoch = 100\n",
    "\n",
    "for i in range(n_epoch):\n",
    "    pred = predict(x,a,b)\n",
    "    \n",
    "    loss = l2_loss(y,pred)\n",
    "    \n",
    "    grad_a, grad_b = grad(x,y,pred)\n",
    "    \n",
    "    a, b = gradient_descent(a,b,grad_a,grad_b)\n",
    "    \n",
    "    if i % 10 == 0:\n",
    "        print(f\"Loss at epoch {i} : {loss}\")"
   ]
  },
  {
   "cell_type": "code",
   "execution_count": 7,
   "metadata": {},
   "outputs": [
    {
     "data": {
      "text/plain": [
       "<matplotlib.collections.PathCollection at 0x1c7d7722fd0>"
      ]
     },
     "execution_count": 7,
     "metadata": {},
     "output_type": "execute_result"
    },
    {
     "data": {
      "image/png": "[encoded data removed]",
      "text/plain": [
       "<Figure size 432x288 with 1 Axes>"
      ]
     },
     "metadata": {
      "needs_background": "light"
     },
     "output_type": "display_data"
    }
   ],
   "source": [
    "plt.plot(x,pred)\n",
    "plt.scatter(x,y, c= \"r\")"
   ]
  },
  {
   "cell_type": "code",
   "execution_count": 171,
   "metadata": {},
   "outputs": [
    {
     "data": {
      "text/plain": [
       "<matplotlib.collections.PathCollection at 0x1c78343c400>"
      ]
     },
     "execution_count": 171,
     "metadata": {},
     "output_type": "execute_result"
    },
    {
     "data": {
      "image/png": "[encoded data removed]",
      "text/plain": [
       "<Figure size 432x288 with 1 Axes>"
      ]
     },
     "metadata": {
      "needs_background": "light"
     },
     "output_type": "display_data"
    }
   ],
   "source": [
    "# Generate random sample, two components\n",
    "n_samples = 50\n",
    "np.random.seed(0)\n",
    "\n",
    "C = np.array([[0., -0.1], [1.7, .4]])\n",
    "X = np.r_[np.dot(np.random.randn(n_samples, 2), C),\n",
    "          .7 * np.random.randn(n_samples, 2) + np.array([-6, 3])]\n",
    "\n",
    "# First samples are set to zeros,then 1\n",
    "y = np.stack([np.zeros(n_samples),np.ones(n_samples)],axis=0)\n",
    "y = y.reshape(n_samples*2)\n",
    "\n",
    "# We plot it\n",
    "plt.scatter(X[:,0],X[:,1],c=y.reshape(100))"
   ]
  },
  {
   "cell_type": "code",
   "execution_count": 172,
   "metadata": {},
   "outputs": [],
   "source": [
    "# Function to get the y coord from the x coord\n",
    "def coord_y(x,W,b):\n",
    "    y = (-b - W[0] * x) / W[1]\n",
    "    return(y)"
   ]
  },
  {
   "cell_type": "code",
   "execution_count": 175,
   "metadata": {},
   "outputs": [
    {
     "data": {
      "text/plain": [
       "[<matplotlib.lines.Line2D at 0x1c78447b160>]"
      ]
     },
     "execution_count": 175,
     "metadata": {},
     "output_type": "execute_result"
    },
    {
     "data": {
      "image/png": "[encoded data removed]",
      "text/plain": [
       "<Figure size 432x288 with 1 Axes>"
      ]
     },
     "metadata": {
      "needs_background": "light"
     },
     "output_type": "display_data"
    }
   ],
   "source": [
    "# We initialize randomly our parameters\n",
    "W = np.random.randn(2,1)\n",
    "b = np.random.randn(1)\n",
    "\n",
    "# We get the label by assigning 1 to those with probability > 0.5\n",
    "label = (forward(X,W,b) > 0.5).reshape(-1).astype(int)\n",
    "\n",
    "# We get points to plot the decision boundary\n",
    "x = np.arange(-6,4,0.1)\n",
    "y_x = coord_y(x,W,b)\n",
    "\n",
    "# We plot the scatter and the line\n",
    "plt.scatter(X[:,0],X[:,1],c=label)\n",
    "plt.plot(x,y_x)"
   ]
  },
  {
   "cell_type": "code",
   "execution_count": 174,
   "metadata": {},
   "outputs": [
    {
     "name": "stdout",
     "output_type": "stream",
     "text": [
      "Epoch 0 with loss : 0.7288770446637888\n",
      "Epoch 100 with loss : 0.6103323681535215\n",
      "Epoch 200 with loss : 0.518593122254319\n",
      "Epoch 300 with loss : 0.4431291450384863\n",
      "Epoch 400 with loss : 0.3809560469611993\n",
      "Epoch 500 with loss : 0.32984475354723825\n",
      "Epoch 600 with loss : 0.28783676335304836\n",
      "Epoch 700 with loss : 0.2532312319104959\n",
      "Epoch 800 with loss : 0.2245968705416791\n",
      "Epoch 900 with loss : 0.20076079617539355\n",
      "Epoch 1000 with loss : 0.1807797065268902\n",
      "Epoch 1100 with loss : 0.16390372213116058\n",
      "Epoch 1200 with loss : 0.14954025952875752\n",
      "Epoch 1300 with loss : 0.13722180224130145\n",
      "Epoch 1400 with loss : 0.12657895880440737\n",
      "Epoch 1500 with loss : 0.11731880341082122\n",
      "Epoch 1600 with loss : 0.10920786588994186\n",
      "Epoch 1700 with loss : 0.10205894991030508\n",
      "Epoch 1800 with loss : 0.09572098582507163\n",
      "Epoch 1900 with loss : 0.09007123678587176\n"
     ]
    },
    {
     "data": {
      "text/plain": [
       "[<matplotlib.lines.Line2D at 0x1c7833d98d0>]"
      ]
     },
     "execution_count": 174,
     "metadata": {},
     "output_type": "execute_result"
    },
    {
     "data": {
      "image/png": "[encoded data removed]",
      "text/plain": [
       "<Figure size 432x288 with 1 Axes>"
      ]
     },
     "metadata": {
      "needs_background": "light"
     },
     "output_type": "display_data"
    }
   ],
   "source": [
    "def sigmoid(x):\n",
    "    # Sigmoid function\n",
    "    output = 1 / (1 + np.exp(-x))\n",
    "    return output\n",
    "\n",
    "def forward(X,W,b):\n",
    "    # Forward pass with sigmoid activation\n",
    "    output = np.dot(X,W) + b\n",
    "    output = sigmoid(output)\n",
    "    return output\n",
    "\n",
    "def cross_entropy(y,y_pred):\n",
    "    # Cross entropy error\n",
    "    \n",
    "    # We reshape y first from (n,) to (n,1)\n",
    "    y = y.reshape(len(y),1)\n",
    "    \n",
    "    # We compute the cross entropy\n",
    "    left = y * np.log(y_pred)\n",
    "    right = (1-y) * np.log(1 - y_pred)\n",
    "    loss = -(left + right)\n",
    "    loss = loss.mean()\n",
    "    \n",
    "    return(loss)\n",
    "\n",
    "def grad_cross_entropy(x,y,y_pred):\n",
    "    # We get the gradient \n",
    "    \n",
    "    y = y.reshape(len(y),1)\n",
    "    \n",
    "    # Gradient for the weight\n",
    "    grad = -(y - y_pred) * x\n",
    "    grad = np.mean(grad,axis=0,keepdims=1)\n",
    "    \n",
    "    # Gradient for the bias\n",
    "    grad_b = -(y - y_pred)\n",
    "    grad_b = np.mean(grad_b)\n",
    "    \n",
    "    return(grad,grad_b)\n",
    "\n",
    "def grad_descent(grad,grad_b,W,b,alpha):\n",
    "    \n",
    "    # We update our parameters\n",
    "    W = W - alpha * grad.T\n",
    "    b = b - alpha * grad_b\n",
    "    return(W,b)\n",
    "\n",
    "# We set the hyperparameters\n",
    "n_epoch = 2000\n",
    "alpha = 0.01\n",
    "\n",
    "for i in range(n_epoch):\n",
    "    \n",
    "    # We predict the classes\n",
    "    y_pred = forward(X,W,b)\n",
    "    \n",
    "    # We compute the loss\n",
    "    loss = cross_entropy(y,y_pred)\n",
    "    \n",
    "    # We get the gradients and update our weights\n",
    "    grad, grad_b = grad_cross_entropy(X,y,y_pred)\n",
    "    W,b = grad_descent(grad,grad_b,W,b,alpha)\n",
    "    \n",
    "    if i % 100 == 0:\n",
    "        print(f\"Epoch {i} with loss : {loss}\")\n",
    "\n",
    "label = (forward(X,W,b) > 0.5).reshape(-1).astype(int)\n",
    "\n",
    "x = np.arange(-6,4,0.1)\n",
    "y_x = coord_y(x,W,b)\n",
    "\n",
    "plt.scatter(X[:,0],X[:,1],c=label)\n",
    "plt.plot(x,y_x)"
   ]
  },
  {
   "cell_type": "code",
   "execution_count": 3,
   "metadata": {},
   "outputs": [],
   "source": [
    "import pandas as pd\n",
    "\n",
    "data = pd.read_csv(\"./data/ratWeight.csv\")"
   ]
  },
  {
   "cell_type": "code",
   "execution_count": 5,
   "metadata": {},
   "outputs": [],
   "source": [
    "data\n",
    "\n",
    "rat = data.loc[data.id == \"B38602\"]"
   ]
  },
  {
   "cell_type": "code",
   "execution_count": 10,
   "metadata": {},
   "outputs": [],
   "source": [
    "x = rat.week.values.reshape(-1,1)\n",
    "y = rat.weight.values.reshape(-1,1)"
   ]
  },
  {
   "cell_type": "code",
   "execution_count": 15,
   "metadata": {},
   "outputs": [],
   "source": [
    "import flask"
   ]
  },
  {
   "cell_type": "code",
   "execution_count": 13,
   "metadata": {},
   "outputs": [
    {
     "data": {
      "text/plain": [
       "[<matplotlib.lines.Line2D at 0x1484366f4e0>]"
      ]
     },
     "execution_count": 13,
     "metadata": {},
     "output_type": "execute_result"
    },
    {
     "data": {
      "image/png": "[encoded data removed]",
      "text/plain": [
       "<Figure size 432x288 with 1 Axes>"
      ]
     },
     "metadata": {
      "needs_background": "light"
     },
     "output_type": "display_data"
    }
   ],
   "source": [
    "%matplotlib inline\n",
    "import matplotlib.pyplot as plt\n",
    "\n",
    "model = sklearn.linear_model.LinearRegression()\n",
    "model.fit(x,y)\n",
    "\n",
    "preds = model.predict(x)\n",
    "\n",
    "plt.scatter(x,y, marker =\"x\")\n",
    "plt.plot(x,preds,)"
   ]
  },
  {
   "cell_type": "code",
   "execution_count": 16,
   "metadata": {},
   "outputs": [],
   "source": [
    "import requests\n",
    "\n",
    "url = \"http://127.0.0.1:5000/rat_weight\"\n",
    "\n",
    "data = {\"week\" : 1}\n",
    "\n",
    "req = requests.post(url,)"
   ]
  }
 ],
 "metadata": {
  "colab": {
   "collapsed_sections": [],
   "name": "Lesson_1_regression.ipynb",
   "provenance": [],
   "version": "0.3.2"
  },
  "kernelspec": {
   "display_name": "Python 3",
   "language": "python",
   "name": "python3"
  },
  "language_info": {
   "codemirror_mode": {
    "name": "ipython",
    "version": 3
   },
   "file_extension": ".py",
   "mimetype": "text/x-python",
   "name": "python",
   "nbconvert_exporter": "python",
   "pygments_lexer": "ipython3",
   "version": "3.6.8"
  }
 },
 "nbformat": 4,
 "nbformat_minor": 1
}
