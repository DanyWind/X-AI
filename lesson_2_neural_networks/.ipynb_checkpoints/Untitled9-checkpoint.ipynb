{
 "cells": [
  {
   "cell_type": "code",
   "execution_count": 1,
   "metadata": {
    "colab": {},
    "colab_type": "code",
    "id": "5CIbz9Pn7xQ_"
   },
   "outputs": [],
   "source": [
    "from fastai.datasets import URLs, untar_data"
   ]
  },
  {
   "cell_type": "code",
   "execution_count": 2,
   "metadata": {
    "colab": {},
    "colab_type": "code",
    "id": "F9QR2vgh8Boz"
   },
   "outputs": [],
   "source": [
    "from fastai.vision import *"
   ]
  },
  {
   "cell_type": "code",
   "execution_count": 3,
   "metadata": {
    "colab": {},
    "colab_type": "code",
    "id": "W27U8y_h8PjV"
   },
   "outputs": [],
   "source": [
    "path = untar_data(URLs.MNIST_SAMPLE)"
   ]
  },
  {
   "cell_type": "code",
   "execution_count": 4,
   "metadata": {
    "colab": {},
    "colab_type": "code",
    "id": "c6refNO18aVi"
   },
   "outputs": [],
   "source": [
    "tfms = get_transforms(do_flip=False)\n",
    "data = (ImageList.from_folder(path)\n",
    "        .split_by_folder()\n",
    "        .label_empty()\n",
    "        .add_test_folder()\n",
    "        .transform(tfms = tfms, size=64)\n",
    "        .databunch())"
   ]
  },
  {
   "cell_type": "code",
   "execution_count": 7,
   "metadata": {
    "colab": {
     "base_uri": "https://localhost:8080/",
     "height": 134
    },
    "colab_type": "code",
    "id": "FgnoZznH8m9w",
    "outputId": "06bdc25a-b198-442f-ddf3-4c567eee80a5"
   },
   "outputs": [],
   "source": [
    "class Encoder(nn.Module):\n",
    "    def __init__(self,channel_in=3,channel_out,n_conv,ks,):\n",
    "        super(Encoder, self).__init__()\n",
    "      \n",
    "        self.relu = F.relu\n",
    "      \n",
    "        self.convs = nn.ModuleList([nn.Conv2d(channel_in,channel_out,ks),nn.ReLU()] + [\n",
    "            [nn.Conv2d(channel_out,channel_out,ks), nn.Relu()] for i in range(n_conv)\n",
    "        ])\n",
    "        \n",
    "    def forward(self,x):\n",
    "        for conv in self.convs:\n",
    "            x = conv(x)\n",
    "        return x"
   ]
  },
  {
   "cell_type": "code",
   "execution_count": null,
   "metadata": {},
   "outputs": [],
   "source": [
    "e = "
   ]
  },
  {
   "cell_type": "code",
   "execution_count": 0,
   "metadata": {
    "colab": {},
    "colab_type": "code",
    "id": "5zsIfySmIUDL"
   },
   "outputs": [],
   "source": [
    "class test(nn.Module):\n",
    "  def __init__(self):\n",
    "    super(test,self).__init__()\n",
    "    self.layer = nn.ModuleList([nn.Linear(2,2),nn.ReLU()])\n",
    "    \n",
    "  def forward(self,x):\n",
    "    for l in self.layer:\n",
    "      x = l(x)\n",
    "    return x"
   ]
  },
  {
   "cell_type": "code",
   "execution_count": 0,
   "metadata": {
    "colab": {
     "base_uri": "https://localhost:8080/",
     "height": 53
    },
    "colab_type": "code",
    "id": "m2scV9-9UMue",
    "outputId": "fbf6f12b-3f7e-48e5-ad39-41b8bfeff1cf"
   },
   "outputs": [
    {
     "data": {
      "text/plain": [
       "tensor([[0.1963, 0.0000],\n",
       "        [1.4367, 0.0000]], grad_fn=<ReluBackward0>)"
      ]
     },
     "execution_count": 44,
     "metadata": {
      "tags": []
     },
     "output_type": "execute_result"
    }
   ],
   "source": [
    "t = test()\n",
    "t(x)"
   ]
  },
  {
   "cell_type": "code",
   "execution_count": 0,
   "metadata": {
    "colab": {
     "base_uri": "https://localhost:8080/",
     "height": 53
    },
    "colab_type": "code",
    "id": "KGc-amMCGPNI",
    "outputId": "5828275f-4746-4061-dacc-550981cd22f0"
   },
   "outputs": [
    {
     "data": {
      "text/plain": [
       "tensor([[ 1.,  4.],\n",
       "        [ 9., 16.]])"
      ]
     },
     "execution_count": 31,
     "metadata": {
      "tags": []
     },
     "output_type": "execute_result"
    }
   ],
   "source": [
    "x = torch.tensor([[1,2],[3,4]]).float()\n",
    "x * x"
   ]
  },
  {
   "cell_type": "code",
   "execution_count": 0,
   "metadata": {
    "colab": {
     "base_uri": "https://localhost:8080/",
     "height": 53
    },
    "colab_type": "code",
    "id": "NRt0iKyXGqti",
    "outputId": "db882450-c1a8-4582-a51c-5f8a62dc0bc4"
   },
   "outputs": [
    {
     "data": {
      "text/plain": [
       "tensor([[1., 2.],\n",
       "        [3., 4.]], requires_grad=True)"
      ]
     },
     "execution_count": 10,
     "metadata": {
      "tags": []
     },
     "output_type": "execute_result"
    }
   ],
   "source": [
    "x.requires_grad_(requires_grad=True)"
   ]
  },
  {
   "cell_type": "code",
   "execution_count": 0,
   "metadata": {
    "colab": {},
    "colab_type": "code",
    "id": "EFn-ShWJGvv_"
   },
   "outputs": [],
   "source": [
    "(x * x).sum().backward()"
   ]
  },
  {
   "cell_type": "code",
   "execution_count": 0,
   "metadata": {
    "colab": {
     "base_uri": "https://localhost:8080/",
     "height": 53
    },
    "colab_type": "code",
    "id": "iajTkObdG5LY",
    "outputId": "2ed0572f-7b69-4491-b3c9-91ba48a26617"
   },
   "outputs": [
    {
     "data": {
      "text/plain": [
       "tensor([[2., 4.],\n",
       "        [6., 8.]])"
      ]
     },
     "execution_count": 16,
     "metadata": {
      "tags": []
     },
     "output_type": "execute_result"
    }
   ],
   "source": []
  }
 ],
 "metadata": {
  "colab": {
   "collapsed_sections": [],
   "name": "Untitled9.ipynb",
   "provenance": [],
   "version": "0.3.2"
  },
  "kernelspec": {
   "display_name": "Python [conda env:fastai]",
   "language": "python",
   "name": "conda-env-fastai-py"
  },
  "language_info": {
   "codemirror_mode": {
    "name": "ipython",
    "version": 3
   },
   "file_extension": ".py",
   "mimetype": "text/x-python",
   "name": "python",
   "nbconvert_exporter": "python",
   "pygments_lexer": "ipython3",
   "version": "3.7.2"
  }
 },
 "nbformat": 4,
 "nbformat_minor": 1
}
