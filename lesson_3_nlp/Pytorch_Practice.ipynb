{
  "nbformat": 4,
  "nbformat_minor": 0,
  "metadata": {
    "colab": {
      "name": "Pytorch_Practice.ipynb",
      "version": "0.3.2",
      "provenance": []
    },
    "kernelspec": {
      "name": "python3",
      "display_name": "Python 3"
    },
    "accelerator": "GPU"
  },
  "cells": [
    {
      "cell_type": "markdown",
      "metadata": {
        "id": "1HkVT_IhxflC",
        "colab_type": "text"
      },
      "source": [
        "# Lesson 3 : Deep learning with Pytorch\n",
        "\n",
        "Link to the colab here : https://colab.research.google.com/drive/17H8XUUvFTSPQnRyP_evpMtVylEASnQHD"
      ]
    },
    {
      "cell_type": "code",
      "metadata": {
        "id": "C463uPG4SsUV",
        "colab_type": "code",
        "colab": {}
      },
      "source": [
        "import torch"
      ],
      "execution_count": 0,
      "outputs": []
    },
    {
      "cell_type": "code",
      "metadata": {
        "id": "2X2yvqEvSze-",
        "colab_type": "code",
        "outputId": "4607306c-5837-4ac9-8c17-684f4070c09d",
        "colab": {
          "base_uri": "https://localhost:8080/",
          "height": 111
        }
      },
      "source": [
        "# Basic operations\n",
        "x = torch.tensor([[1,2,3],[4,5,6]],dtype = torch.float)\n",
        "print(x)\n",
        "\n",
        "z = x**2\n",
        "print(z)\n",
        "\n",
        "y = z.mean()\n",
        "print(y)"
      ],
      "execution_count": 115,
      "outputs": [
        {
          "output_type": "stream",
          "text": [
            "tensor([[1., 2., 3.],\n",
            "        [4., 5., 6.]])\n",
            "tensor([[ 1.,  4.,  9.],\n",
            "        [16., 25., 36.]])\n",
            "tensor(15.1667)\n"
          ],
          "name": "stdout"
        }
      ]
    },
    {
      "cell_type": "code",
      "metadata": {
        "id": "X1VDW3N1TP3_",
        "colab_type": "code",
        "outputId": "93b44f32-90ec-4382-8db5-48abc8b8db05",
        "colab": {
          "base_uri": "https://localhost:8080/",
          "height": 111
        }
      },
      "source": [
        "# Gradient tracking\n",
        "x = torch.tensor([[1,2,3],[4,5,6]],dtype = torch.float,requires_grad = True)\n",
        "print(x)\n",
        "\n",
        "z = x**2\n",
        "print(z)\n",
        "\n",
        "y = z.mean()\n",
        "print(y)"
      ],
      "execution_count": 116,
      "outputs": [
        {
          "output_type": "stream",
          "text": [
            "tensor([[1., 2., 3.],\n",
            "        [4., 5., 6.]], requires_grad=True)\n",
            "tensor([[ 1.,  4.,  9.],\n",
            "        [16., 25., 36.]], grad_fn=<PowBackward0>)\n",
            "tensor(15.1667, grad_fn=<MeanBackward0>)\n"
          ],
          "name": "stdout"
        }
      ]
    },
    {
      "cell_type": "code",
      "metadata": {
        "id": "3S29Ud6lZaAY",
        "colab_type": "code",
        "colab": {}
      },
      "source": [
        "y.backward()"
      ],
      "execution_count": 0,
      "outputs": []
    },
    {
      "cell_type": "code",
      "metadata": {
        "id": "WO5BiO16Zccl",
        "colab_type": "code",
        "outputId": "8fcc4201-94b0-4c99-d2ac-c5b35abafc2a",
        "colab": {
          "base_uri": "https://localhost:8080/",
          "height": 73
        }
      },
      "source": [
        "print(x,z,y)"
      ],
      "execution_count": 118,
      "outputs": [
        {
          "output_type": "stream",
          "text": [
            "tensor([[1., 2., 3.],\n",
            "        [4., 5., 6.]], requires_grad=True) tensor([[ 1.,  4.,  9.],\n",
            "        [16., 25., 36.]], grad_fn=<PowBackward0>) tensor(15.1667, grad_fn=<MeanBackward0>)\n"
          ],
          "name": "stdout"
        }
      ]
    },
    {
      "cell_type": "code",
      "metadata": {
        "id": "gxvTKG3AZiOk",
        "colab_type": "code",
        "outputId": "e1a1e389-2b4a-4468-f365-891ff79579d2",
        "colab": {
          "base_uri": "https://localhost:8080/",
          "height": 92
        }
      },
      "source": [
        "print(y.grad)\n",
        "print(z.grad)\n",
        "print(x.grad)"
      ],
      "execution_count": 119,
      "outputs": [
        {
          "output_type": "stream",
          "text": [
            "None\n",
            "None\n",
            "tensor([[0.3333, 0.6667, 1.0000],\n",
            "        [1.3333, 1.6667, 2.0000]])\n"
          ],
          "name": "stdout"
        }
      ]
    },
    {
      "cell_type": "code",
      "metadata": {
        "id": "nrzLVM1NaAn6",
        "colab_type": "code",
        "outputId": "032d3a48-1990-482f-c5a3-86ce28b6d020",
        "colab": {
          "base_uri": "https://localhost:8080/",
          "height": 288
        }
      },
      "source": [
        "%matplotlib inline\n",
        "import numpy as np\n",
        "import pandas as pd\n",
        "import matplotlib.pyplot as plt\n",
        "import matplotlib.animation as animation\n",
        "\n",
        "# First we sample x\n",
        "mu_x = 7\n",
        "scale_x = 2\n",
        "n = 100\n",
        "x = np.random.normal(loc = mu_x,scale = scale_x,size = n)\n",
        "\n",
        "# Then we sample y\n",
        "scale_y = 2\n",
        "y = np.random.normal(loc = x * 2,scale = scale_y)\n",
        "\n",
        "# Finally we plot the points\n",
        "plt.scatter(x,y)"
      ],
      "execution_count": 120,
      "outputs": [
        {
          "output_type": "execute_result",
          "data": {
            "text/plain": [
              "<matplotlib.collections.PathCollection at 0x7faf71c4d4e0>"
            ]
          },
          "metadata": {
            "tags": []
          },
          "execution_count": 120
        },
        {
          "output_type": "display_data",
          "data": {
            "image/png": "[encoded data removed]",
            "text/plain": [
              "<Figure size 432x288 with 1 Axes>"
            ]
          },
          "metadata": {
            "tags": []
          }
        }
      ]
    },
    {
      "cell_type": "code",
      "metadata": {
        "id": "QNXR8BDtat0A",
        "colab_type": "code",
        "outputId": "2cc34982-580c-437f-eade-3ab40392fc62",
        "colab": {
          "base_uri": "https://localhost:8080/",
          "height": 485
        }
      },
      "source": [
        "x = torch.tensor(x, dtype = torch.float)\n",
        "y = torch.tensor(y, dtype = torch.float)\n",
        "\n",
        "print(x,y)"
      ],
      "execution_count": 121,
      "outputs": [
        {
          "output_type": "stream",
          "text": [
            "tensor([ 7.6322, 11.3367,  6.9888,  7.0880,  5.1151,  5.3209,  5.3412, 10.7311,\n",
            "         8.0998,  6.5057,  7.8106,  6.4897,  9.4516,  3.8831,  9.8181,  6.3401,\n",
            "         5.4736,  8.1210,  5.0063,  5.2828,  5.3352,  3.9455,  6.3893,  7.1807,\n",
            "         1.5777,  8.2883,  8.1787,  8.4431,  6.4142,  4.7527,  6.4792,  7.5376,\n",
            "         7.4371,  6.9722,  7.2876,  6.3879,  6.4309,  4.8848,  8.6395,  8.7260,\n",
            "         9.0641,  7.5893,  1.0646,  5.2896,  2.6657,  5.5244,  7.4712,  9.8551,\n",
            "         6.9889, 11.2739,  7.5513,  8.9571,  8.4613,  7.0115,  7.0839, 10.7365,\n",
            "         5.9173,  9.6043,  5.5972,  4.6469,  5.4496,  8.3230,  3.7026,  7.3460,\n",
            "         8.2764,  8.0083,  4.9639,  4.6043,  7.6439,  8.2782,  9.1340,  8.6405,\n",
            "         4.6650,  5.8561,  5.6396,  6.9392,  8.3400, 10.3323,  4.9604,  5.3602,\n",
            "         4.7356,  7.0903,  6.4098,  7.3339,  7.9923,  7.9083,  6.0101,  8.7995,\n",
            "         5.7021,  2.2412,  6.3911,  7.2036,  9.7465,  8.7756,  5.3011,  3.9516,\n",
            "         7.7079,  8.3279,  7.1726,  9.1232]) tensor([13.3556, 20.9673, 13.1828, 15.3996, 10.1755, 13.8190,  9.3281, 27.1706,\n",
            "        15.1947,  8.8616, 18.1720, 12.4673, 16.3238,  6.9062, 19.2098, 14.2814,\n",
            "        12.6480, 15.1676, 10.0366,  7.7689,  8.1266,  8.3222, 15.3596, 13.2816,\n",
            "         3.0283, 19.2924, 14.5148, 17.8645, 12.7451,  8.7428, 15.2439, 15.6838,\n",
            "        18.5560, 15.0272, 10.9232, 12.3137, 15.5324, 12.7562, 18.8826, 15.1859,\n",
            "        21.5623, 10.8256,  3.3373,  8.3486,  6.6316, 12.4802, 16.3425, 18.3693,\n",
            "        13.9625, 20.4911, 12.7087, 18.5386, 16.9191, 12.7279, 16.8422, 20.4789,\n",
            "        12.1618, 22.0060,  6.6922, 10.4149,  7.2277, 20.0275,  3.0692, 17.0695,\n",
            "        16.9579, 18.1506,  9.6479,  9.7103, 13.4672, 16.1164, 16.8825, 18.6735,\n",
            "         8.5107, 12.8570, 12.7278, 15.7356, 14.9847, 18.4041,  9.2207, 12.7573,\n",
            "        10.1856, 13.2703, 12.4814, 12.9377, 17.1445, 18.2658, 15.4096, 19.7307,\n",
            "        11.2440,  3.8103, 11.7250, 15.3309, 20.7356, 22.4309,  9.5448, 10.4534,\n",
            "        19.5254, 18.5046, 13.0411, 12.0629])\n"
          ],
          "name": "stdout"
        }
      ]
    },
    {
      "cell_type": "code",
      "metadata": {
        "id": "X7k1mo59a06j",
        "colab_type": "code",
        "colab": {}
      },
      "source": [
        "a = torch.tensor([1.], dtype = torch.float,requires_grad=True)\n",
        "a.retain_grad()\n",
        "b = torch.tensor([0.], dtype = torch.float,requires_grad=True)\n",
        "b.retain_grad()"
      ],
      "execution_count": 0,
      "outputs": []
    },
    {
      "cell_type": "code",
      "metadata": {
        "id": "ba4jjw1PbEEz",
        "colab_type": "code",
        "colab": {}
      },
      "source": [
        "x = x.unsqueeze(-1)"
      ],
      "execution_count": 0,
      "outputs": []
    },
    {
      "cell_type": "code",
      "metadata": {
        "id": "aL1B6-U0bVzG",
        "colab_type": "code",
        "colab": {}
      },
      "source": [
        "pred = x @ a + b"
      ],
      "execution_count": 0,
      "outputs": []
    },
    {
      "cell_type": "code",
      "metadata": {
        "id": "Io57VShHberk",
        "colab_type": "code",
        "colab": {}
      },
      "source": [
        "criterion = nn.MSELoss()\n",
        "loss = criterion(pred,y)"
      ],
      "execution_count": 0,
      "outputs": []
    },
    {
      "cell_type": "code",
      "metadata": {
        "id": "uOU8G6I8blJ6",
        "colab_type": "code",
        "colab": {}
      },
      "source": [
        "loss.backward()"
      ],
      "execution_count": 0,
      "outputs": []
    },
    {
      "cell_type": "code",
      "metadata": {
        "id": "ztJFmgrMcAMA",
        "colab_type": "code",
        "colab": {}
      },
      "source": [
        "alpha = 0.001\n",
        "a = a - alpha * a.grad\n",
        "b = b - alpha * b.grad"
      ],
      "execution_count": 0,
      "outputs": []
    },
    {
      "cell_type": "code",
      "metadata": {
        "id": "z_XhU9PscL4R",
        "colab_type": "code",
        "outputId": "776c2565-2e31-45e2-92cb-18270357fcdf",
        "colab": {
          "base_uri": "https://localhost:8080/",
          "height": 280
        }
      },
      "source": [
        "n_epochs = 100\n",
        "alpha = 0.001\n",
        "\n",
        "a = Variable(torch.tensor([1.], dtype = torch.float),requires_grad=True)\n",
        "b = Variable(torch.tensor([0.], dtype = torch.float),requires_grad=True)\n",
        "\n",
        "for i in range(n_epochs):\n",
        "  pred = x @ a + b\n",
        "  loss = criterion(pred,y)\n",
        "  \n",
        "  loss.backward()\n",
        "  \n",
        "  a = a - alpha * a.grad\n",
        "  b = b - alpha * b.grad\n",
        "  \n",
        "  a = torch.tensor(a.detach(),requires_grad= True)\n",
        "  b = torch.tensor(b.detach(),requires_grad= True)\n",
        "  \n",
        "  if i % 10 == 0:\n",
        "    print(f\"Loss at epoch {i} : {loss}\")"
      ],
      "execution_count": 128,
      "outputs": [
        {
          "output_type": "stream",
          "text": [
            "Loss at epoch 0 : 58.58003616333008\n",
            "Loss at epoch 10 : 10.666964530944824\n",
            "Loss at epoch 20 : 5.459080219268799\n",
            "Loss at epoch 30 : 4.893007755279541\n",
            "Loss at epoch 40 : 4.831470966339111\n",
            "Loss at epoch 50 : 4.824775695800781\n",
            "Loss at epoch 60 : 4.824039936065674\n",
            "Loss at epoch 70 : 4.823953628540039\n",
            "Loss at epoch 80 : 4.82393741607666\n",
            "Loss at epoch 90 : 4.823928356170654\n"
          ],
          "name": "stdout"
        },
        {
          "output_type": "stream",
          "text": [
            "/usr/local/lib/python3.6/dist-packages/ipykernel_launcher.py:16: UserWarning: To copy construct from a tensor, it is recommended to use sourceTensor.clone().detach() or sourceTensor.clone().detach().requires_grad_(True), rather than torch.tensor(sourceTensor).\n",
            "  app.launch_new_instance()\n",
            "/usr/local/lib/python3.6/dist-packages/ipykernel_launcher.py:17: UserWarning: To copy construct from a tensor, it is recommended to use sourceTensor.clone().detach() or sourceTensor.clone().detach().requires_grad_(True), rather than torch.tensor(sourceTensor).\n"
          ],
          "name": "stderr"
        }
      ]
    },
    {
      "cell_type": "code",
      "metadata": {
        "id": "dOQlXaB6csGR",
        "colab_type": "code",
        "outputId": "676bba16-9228-4824-8651-c03ea42b5013",
        "colab": {
          "base_uri": "https://localhost:8080/",
          "height": 288
        }
      },
      "source": [
        "x = x.numpy()\n",
        "pred = pred.detach().numpy()\n",
        "\n",
        "plt.plot(x,pred, c= \"r\")\n",
        "plt.scatter(x,y)"
      ],
      "execution_count": 129,
      "outputs": [
        {
          "output_type": "execute_result",
          "data": {
            "text/plain": [
              "<matplotlib.collections.PathCollection at 0x7faf71c77278>"
            ]
          },
          "metadata": {
            "tags": []
          },
          "execution_count": 129
        },
        {
          "output_type": "display_data",
          "data": {
            "image/png": "[encoded data removed]",
            "text/plain": [
              "<Figure size 432x288 with 1 Axes>"
            ]
          },
          "metadata": {
            "tags": []
          }
        }
      ]
    },
    {
      "cell_type": "code",
      "metadata": {
        "id": "FQCxDiIQhbCK",
        "colab_type": "code",
        "colab": {}
      },
      "source": [
        "x = np.array([[0,0],\n",
        "                [0,1],\n",
        "                [1,0],\n",
        "                [1,1]])\n",
        "y = np.array([0,1,1,0])\n"
      ],
      "execution_count": 0,
      "outputs": []
    },
    {
      "cell_type": "code",
      "metadata": {
        "id": "tuaiKpjj0ZCJ",
        "colab_type": "code",
        "colab": {
          "base_uri": "https://localhost:8080/",
          "height": 288
        },
        "outputId": "93de25b3-28b0-4ec2-8370-1812f473a9b5"
      },
      "source": [
        "plt.scatter(x[:,0],x[:,1], c= y)"
      ],
      "execution_count": 209,
      "outputs": [
        {
          "output_type": "execute_result",
          "data": {
            "text/plain": [
              "<matplotlib.collections.PathCollection at 0x7faf71860630>"
            ]
          },
          "metadata": {
            "tags": []
          },
          "execution_count": 209
        },
        {
          "output_type": "display_data",
          "data": {
            "image/png": "[encoded data removed]",
            "text/plain": [
              "<Figure size 432x288 with 1 Axes>"
            ]
          },
          "metadata": {
            "tags": []
          }
        }
      ]
    },
    {
      "cell_type": "code",
      "metadata": {
        "id": "n01aTsF00hhS",
        "colab_type": "code",
        "colab": {}
      },
      "source": [
        "x = torch.tensor(x, dtype = torch.float)\n",
        "y = torch.tensor(y)"
      ],
      "execution_count": 0,
      "outputs": []
    },
    {
      "cell_type": "code",
      "metadata": {
        "id": "181u37Kah6ZB",
        "colab_type": "code",
        "colab": {}
      },
      "source": [
        "w = torch.tensor([[1.,0.],\n",
        "                  [0.,1.]], dtype = torch.float,requires_grad=True)\n",
        "b = torch.tensor([0.,0.], dtype = torch.float,requires_grad = True)\n",
        "pred = torch.softmax(x @ w + b,dim = 1)\n"
      ],
      "execution_count": 0,
      "outputs": []
    },
    {
      "cell_type": "code",
      "metadata": {
        "id": "MyYJ5rymzQ8x",
        "colab_type": "code",
        "colab": {}
      },
      "source": [
        "loss = -torch.log(pred[range(y.shape[0]), y]).mean()"
      ],
      "execution_count": 0,
      "outputs": []
    },
    {
      "cell_type": "code",
      "metadata": {
        "id": "PTy_8yMuhpsX",
        "colab_type": "code",
        "outputId": "a1bbe281-16a2-4a98-aba7-92778122b9bc",
        "colab": {
          "base_uri": "https://localhost:8080/",
          "height": 261
        }
      },
      "source": [
        "n_epochs = 100\n",
        "alpha = 0.001\n",
        "\n",
        "w = torch.tensor([[1.,0.],\n",
        "                  [0.,1.]], dtype = torch.float,requires_grad=True)\n",
        "b = torch.tensor([0.,0.], dtype = torch.float,requires_grad = True)\n",
        "\n",
        "for i in range(n_epochs):\n",
        "  pred = torch.softmax(x @ w + b,dim = 1)\n",
        "  loss = -torch.log(pred[range(y.shape[0]), y]).mean()\n",
        "  \n",
        "  loss.backward()\n",
        "  \n",
        "  w = w - alpha * w.grad\n",
        "  b = b - alpha * b.grad\n",
        "  \n",
        "  w = torch.tensor(w.detach(),requires_grad= True)\n",
        "  b = torch.tensor(b.detach(),requires_grad= True)\n",
        "  \n",
        "  if i % 10 == 0:\n",
        "    print(f\"Loss at epoch {i} : {loss}\")"
      ],
      "execution_count": 191,
      "outputs": [
        {
          "output_type": "stream",
          "text": [
            "Loss at epoch 0 : 0.7532044053077698\n",
            "Loss at epoch 10 : 0.7530710697174072\n",
            "Loss at epoch 20 : 0.752937912940979\n",
            "Loss at epoch 30 : 0.7528051733970642\n",
            "Loss at epoch 40 : 0.7526726126670837\n",
            "Loss at epoch 50 : 0.7525403499603271\n",
            "Loss at epoch 60 : 0.7524082660675049\n",
            "Loss at epoch 70 : 0.7522764801979065\n",
            "Loss at epoch 80 : 0.752144992351532\n",
            "Loss at epoch 90 : 0.7520138025283813\n"
          ],
          "name": "stdout"
        },
        {
          "output_type": "stream",
          "text": [
            "/usr/local/lib/python3.6/dist-packages/ipykernel_launcher.py:17: UserWarning: To copy construct from a tensor, it is recommended to use sourceTensor.clone().detach() or sourceTensor.clone().detach().requires_grad_(True), rather than torch.tensor(sourceTensor).\n",
            "/usr/local/lib/python3.6/dist-packages/ipykernel_launcher.py:18: UserWarning: To copy construct from a tensor, it is recommended to use sourceTensor.clone().detach() or sourceTensor.clone().detach().requires_grad_(True), rather than torch.tensor(sourceTensor).\n"
          ],
          "name": "stderr"
        }
      ]
    },
    {
      "cell_type": "code",
      "metadata": {
        "id": "JED5w4w41MEv",
        "colab_type": "code",
        "colab": {}
      },
      "source": [
        "pred = pred.max(dim = 1).indices\n",
        "pred = pred.detach().numpy()\n",
        "x = x.numpy()\n",
        "\n",
        "plt.scatter(x[:,0],x[:,1], c= pred)"
      ],
      "execution_count": 0,
      "outputs": []
    },
    {
      "cell_type": "code",
      "metadata": {
        "id": "D9sVJnDj15A1",
        "colab_type": "code",
        "colab": {
          "base_uri": "https://localhost:8080/",
          "height": 112
        },
        "outputId": "bfeda15e-0478-4e04-ed14-acb1b2e32a1c"
      },
      "source": [
        "x = torch.tensor(x, dtype = torch.float)\n",
        "y = torch.tensor(y)"
      ],
      "execution_count": 196,
      "outputs": [
        {
          "output_type": "stream",
          "text": [
            "/usr/local/lib/python3.6/dist-packages/ipykernel_launcher.py:1: UserWarning: To copy construct from a tensor, it is recommended to use sourceTensor.clone().detach() or sourceTensor.clone().detach().requires_grad_(True), rather than torch.tensor(sourceTensor).\n",
            "  \"\"\"Entry point for launching an IPython kernel.\n",
            "/usr/local/lib/python3.6/dist-packages/ipykernel_launcher.py:2: UserWarning: To copy construct from a tensor, it is recommended to use sourceTensor.clone().detach() or sourceTensor.clone().detach().requires_grad_(True), rather than torch.tensor(sourceTensor).\n",
            "  \n"
          ],
          "name": "stderr"
        }
      ]
    },
    {
      "cell_type": "code",
      "metadata": {
        "id": "RpKJuVA81nTo",
        "colab_type": "code",
        "colab": {}
      },
      "source": [
        "W1 = torch.tensor([[1.,0.],\n",
        "                  [0.,1.]], dtype = torch.float,requires_grad=True)\n",
        "b1 = torch.tensor([0.,0.], dtype = torch.float,requires_grad = True)\n",
        "a2 = torch.relu(x @ W1 + b1)\n"
      ],
      "execution_count": 0,
      "outputs": []
    },
    {
      "cell_type": "code",
      "metadata": {
        "id": "UsuAcT9S16_a",
        "colab_type": "code",
        "colab": {}
      },
      "source": [
        "W2 = torch.tensor([[1.,0.],\n",
        "                  [0.,1.]], dtype = torch.float,requires_grad=True)\n",
        "b2 = torch.tensor([0.,0.], dtype = torch.float,requires_grad = True)\n"
      ],
      "execution_count": 0,
      "outputs": []
    },
    {
      "cell_type": "code",
      "metadata": {
        "id": "UD6FCuPU3nWr",
        "colab_type": "code",
        "colab": {}
      },
      "source": [
        "x = np.array([[0,0],\n",
        "                [0,1],\n",
        "                [1,0],\n",
        "                [1,1]])\n",
        "y = np.array([0,1,1,0])\n",
        "x = torch.tensor(x, dtype = torch.float)\n",
        "y = torch.tensor(y)"
      ],
      "execution_count": 0,
      "outputs": []
    },
    {
      "cell_type": "code",
      "metadata": {
        "id": "79UfqYD71w9s",
        "colab_type": "code",
        "colab": {
          "base_uri": "https://localhost:8080/",
          "height": 299
        },
        "outputId": "2dba32f6-f4c4-4073-883c-57742e544069"
      },
      "source": [
        "n_epochs = 10000\n",
        "alpha = 0.1\n",
        "\n",
        "W1 = torch.tensor([[1.,1.],\n",
        "                  [1.,1.]], dtype = torch.float,requires_grad=True)\n",
        "b1 = torch.tensor([0.,-1.], dtype = torch.float,requires_grad = True)\n",
        "\n",
        "W2 = torch.tensor([[1.,0.],\n",
        "                  [0.,1.]], dtype = torch.float,requires_grad=True)\n",
        "b2 = torch.tensor([1.,-2.], dtype = torch.float,requires_grad = True)\n",
        "\n",
        "for i in range(n_epochs):\n",
        "  a2 = torch.sigmoid(x @ W1 + b1)\n",
        "  pred = torch.softmax(a2 @ W2 + b2,dim = 1)\n",
        "  loss = -torch.log(pred[range(y.shape[0]), y]).mean()\n",
        "  \n",
        "  loss.backward()\n",
        "  \n",
        "  W1 = W1 - alpha * W1.grad\n",
        "  b1 = b1 - alpha * b1.grad\n",
        "  \n",
        "  W2 = W2 - alpha * W2.grad\n",
        "  b2 = b2 - alpha * b2.grad\n",
        "  \n",
        "  W1 = torch.tensor(W1.detach(),requires_grad= True)\n",
        "  b1 = torch.tensor(b1.detach(),requires_grad= True)\n",
        "  \n",
        "  W2 = torch.tensor(W2.detach(),requires_grad= True)\n",
        "  b2 = torch.tensor(b2.detach(),requires_grad= True)\n",
        "  \n",
        "  if i % 1000 == 0:\n",
        "    print(f\"Loss at epoch {i} : {loss}\")"
      ],
      "execution_count": 249,
      "outputs": [
        {
          "output_type": "stream",
          "text": [
            "/usr/local/lib/python3.6/dist-packages/ipykernel_launcher.py:25: UserWarning: To copy construct from a tensor, it is recommended to use sourceTensor.clone().detach() or sourceTensor.clone().detach().requires_grad_(True), rather than torch.tensor(sourceTensor).\n",
            "/usr/local/lib/python3.6/dist-packages/ipykernel_launcher.py:26: UserWarning: To copy construct from a tensor, it is recommended to use sourceTensor.clone().detach() or sourceTensor.clone().detach().requires_grad_(True), rather than torch.tensor(sourceTensor).\n",
            "/usr/local/lib/python3.6/dist-packages/ipykernel_launcher.py:28: UserWarning: To copy construct from a tensor, it is recommended to use sourceTensor.clone().detach() or sourceTensor.clone().detach().requires_grad_(True), rather than torch.tensor(sourceTensor).\n",
            "/usr/local/lib/python3.6/dist-packages/ipykernel_launcher.py:29: UserWarning: To copy construct from a tensor, it is recommended to use sourceTensor.clone().detach() or sourceTensor.clone().detach().requires_grad_(True), rather than torch.tensor(sourceTensor).\n"
          ],
          "name": "stderr"
        },
        {
          "output_type": "stream",
          "text": [
            "Loss at epoch 0 : 1.6550880670547485\n",
            "Loss at epoch 1000 : 0.525742769241333\n",
            "Loss at epoch 2000 : 0.15584434568881989\n",
            "Loss at epoch 3000 : 0.0495070144534111\n",
            "Loss at epoch 4000 : 0.027080858126282692\n",
            "Loss at epoch 5000 : 0.01826372556388378\n",
            "Loss at epoch 6000 : 0.01366490125656128\n",
            "Loss at epoch 7000 : 0.010870032012462616\n",
            "Loss at epoch 8000 : 0.009001675061881542\n",
            "Loss at epoch 9000 : 0.0076690055429935455\n"
          ],
          "name": "stdout"
        }
      ]
    },
    {
      "cell_type": "code",
      "metadata": {
        "id": "kW7P59vZ3C-v",
        "colab_type": "code",
        "colab": {
          "base_uri": "https://localhost:8080/",
          "height": 288
        },
        "outputId": "eb5ab372-3560-4bb4-ab14-d3b6f693f127"
      },
      "source": [
        "pred = pred.max(dim = 1).indices\n",
        "pred = pred.detach().numpy()\n",
        "x = x.numpy()\n",
        "\n",
        "plt.scatter(x[:,0],x[:,1], c= pred)"
      ],
      "execution_count": 250,
      "outputs": [
        {
          "output_type": "execute_result",
          "data": {
            "text/plain": [
              "<matplotlib.collections.PathCollection at 0x7faf715cd470>"
            ]
          },
          "metadata": {
            "tags": []
          },
          "execution_count": 250
        },
        {
          "output_type": "display_data",
          "data": {
            "image/png": "[encoded data removed]",
            "text/plain": [
              "<Figure size 432x288 with 1 Axes>"
            ]
          },
          "metadata": {
            "tags": []
          }
        }
      ]
    }
  ]
}